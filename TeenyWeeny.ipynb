{
  "nbformat": 4,
  "nbformat_minor": 0,
  "metadata": {
    "colab": {
      "name": "TeenyWeeny.ipynb",
      "provenance": [],
      "authorship_tag": "ABX9TyOytp+EM0QOu1HT1qN2ftlg",
      "include_colab_link": true
    },
    "kernelspec": {
      "name": "python3",
      "display_name": "Python 3"
    },
    "widgets": {
      "application/vnd.jupyter.widget-state+json": {
        "239b1144b53244cdaac32a9647c40fc4": {
          "model_module": "@jupyter-widgets/controls",
          "model_name": "HBoxModel",
          "state": {
            "_view_name": "HBoxView",
            "_dom_classes": [],
            "_model_name": "HBoxModel",
            "_view_module": "@jupyter-widgets/controls",
            "_model_module_version": "1.5.0",
            "_view_count": null,
            "_view_module_version": "1.5.0",
            "box_style": "",
            "layout": "IPY_MODEL_0056e8b0c64a4095a7d07bd2a0c532c9",
            "_model_module": "@jupyter-widgets/controls",
            "children": [
              "IPY_MODEL_ea0acde141bb4eb493513a05cd1ff02f",
              "IPY_MODEL_e7bfbf13ec1d46f9bc0da623120d891c"
            ]
          }
        },
        "0056e8b0c64a4095a7d07bd2a0c532c9": {
          "model_module": "@jupyter-widgets/base",
          "model_name": "LayoutModel",
          "state": {
            "_view_name": "LayoutView",
            "grid_template_rows": null,
            "right": null,
            "justify_content": null,
            "_view_module": "@jupyter-widgets/base",
            "overflow": null,
            "_model_module_version": "1.2.0",
            "_view_count": null,
            "flex_flow": null,
            "width": null,
            "min_width": null,
            "border": null,
            "align_items": null,
            "bottom": null,
            "_model_module": "@jupyter-widgets/base",
            "top": null,
            "grid_column": null,
            "overflow_y": null,
            "overflow_x": null,
            "grid_auto_flow": null,
            "grid_area": null,
            "grid_template_columns": null,
            "flex": null,
            "_model_name": "LayoutModel",
            "justify_items": null,
            "grid_row": null,
            "max_height": null,
            "align_content": null,
            "visibility": null,
            "align_self": null,
            "height": null,
            "min_height": null,
            "padding": null,
            "grid_auto_rows": null,
            "grid_gap": null,
            "max_width": null,
            "order": null,
            "_view_module_version": "1.2.0",
            "grid_template_areas": null,
            "object_position": null,
            "object_fit": null,
            "grid_auto_columns": null,
            "margin": null,
            "display": null,
            "left": null
          }
        },
        "ea0acde141bb4eb493513a05cd1ff02f": {
          "model_module": "@jupyter-widgets/controls",
          "model_name": "IntProgressModel",
          "state": {
            "_view_name": "ProgressView",
            "style": "IPY_MODEL_b9854bd0e25d4310a3918c77752964ec",
            "_dom_classes": [],
            "description": "Downloading: 100%",
            "_model_name": "IntProgressModel",
            "bar_style": "success",
            "max": 1256,
            "_view_module": "@jupyter-widgets/controls",
            "_model_module_version": "1.5.0",
            "value": 1256,
            "_view_count": null,
            "_view_module_version": "1.5.0",
            "orientation": "horizontal",
            "min": 0,
            "description_tooltip": null,
            "_model_module": "@jupyter-widgets/controls",
            "layout": "IPY_MODEL_5be9adf0b37548fa91d4b0f40f67fa25"
          }
        },
        "e7bfbf13ec1d46f9bc0da623120d891c": {
          "model_module": "@jupyter-widgets/controls",
          "model_name": "HTMLModel",
          "state": {
            "_view_name": "HTMLView",
            "style": "IPY_MODEL_b00acfe24dfc41d5826950de6d13b481",
            "_dom_classes": [],
            "description": "",
            "_model_name": "HTMLModel",
            "placeholder": "​",
            "_view_module": "@jupyter-widgets/controls",
            "_model_module_version": "1.5.0",
            "value": " 1.26k/1.26k [00:00&lt;00:00, 1.81kB/s]",
            "_view_count": null,
            "_view_module_version": "1.5.0",
            "description_tooltip": null,
            "_model_module": "@jupyter-widgets/controls",
            "layout": "IPY_MODEL_6c797e0f32c64056953f33a606dbdd97"
          }
        },
        "b9854bd0e25d4310a3918c77752964ec": {
          "model_module": "@jupyter-widgets/controls",
          "model_name": "ProgressStyleModel",
          "state": {
            "_view_name": "StyleView",
            "_model_name": "ProgressStyleModel",
            "description_width": "initial",
            "_view_module": "@jupyter-widgets/base",
            "_model_module_version": "1.5.0",
            "_view_count": null,
            "_view_module_version": "1.2.0",
            "bar_color": null,
            "_model_module": "@jupyter-widgets/controls"
          }
        },
        "5be9adf0b37548fa91d4b0f40f67fa25": {
          "model_module": "@jupyter-widgets/base",
          "model_name": "LayoutModel",
          "state": {
            "_view_name": "LayoutView",
            "grid_template_rows": null,
            "right": null,
            "justify_content": null,
            "_view_module": "@jupyter-widgets/base",
            "overflow": null,
            "_model_module_version": "1.2.0",
            "_view_count": null,
            "flex_flow": null,
            "width": null,
            "min_width": null,
            "border": null,
            "align_items": null,
            "bottom": null,
            "_model_module": "@jupyter-widgets/base",
            "top": null,
            "grid_column": null,
            "overflow_y": null,
            "overflow_x": null,
            "grid_auto_flow": null,
            "grid_area": null,
            "grid_template_columns": null,
            "flex": null,
            "_model_name": "LayoutModel",
            "justify_items": null,
            "grid_row": null,
            "max_height": null,
            "align_content": null,
            "visibility": null,
            "align_self": null,
            "height": null,
            "min_height": null,
            "padding": null,
            "grid_auto_rows": null,
            "grid_gap": null,
            "max_width": null,
            "order": null,
            "_view_module_version": "1.2.0",
            "grid_template_areas": null,
            "object_position": null,
            "object_fit": null,
            "grid_auto_columns": null,
            "margin": null,
            "display": null,
            "left": null
          }
        },
        "b00acfe24dfc41d5826950de6d13b481": {
          "model_module": "@jupyter-widgets/controls",
          "model_name": "DescriptionStyleModel",
          "state": {
            "_view_name": "StyleView",
            "_model_name": "DescriptionStyleModel",
            "description_width": "",
            "_view_module": "@jupyter-widgets/base",
            "_model_module_version": "1.5.0",
            "_view_count": null,
            "_view_module_version": "1.2.0",
            "_model_module": "@jupyter-widgets/controls"
          }
        },
        "6c797e0f32c64056953f33a606dbdd97": {
          "model_module": "@jupyter-widgets/base",
          "model_name": "LayoutModel",
          "state": {
            "_view_name": "LayoutView",
            "grid_template_rows": null,
            "right": null,
            "justify_content": null,
            "_view_module": "@jupyter-widgets/base",
            "overflow": null,
            "_model_module_version": "1.2.0",
            "_view_count": null,
            "flex_flow": null,
            "width": null,
            "min_width": null,
            "border": null,
            "align_items": null,
            "bottom": null,
            "_model_module": "@jupyter-widgets/base",
            "top": null,
            "grid_column": null,
            "overflow_y": null,
            "overflow_x": null,
            "grid_auto_flow": null,
            "grid_area": null,
            "grid_template_columns": null,
            "flex": null,
            "_model_name": "LayoutModel",
            "justify_items": null,
            "grid_row": null,
            "max_height": null,
            "align_content": null,
            "visibility": null,
            "align_self": null,
            "height": null,
            "min_height": null,
            "padding": null,
            "grid_auto_rows": null,
            "grid_gap": null,
            "max_width": null,
            "order": null,
            "_view_module_version": "1.2.0",
            "grid_template_areas": null,
            "object_position": null,
            "object_fit": null,
            "grid_auto_columns": null,
            "margin": null,
            "display": null,
            "left": null
          }
        },
        "239617c0b1044be699c1d2f6b4eb6e53": {
          "model_module": "@jupyter-widgets/controls",
          "model_name": "HBoxModel",
          "state": {
            "_view_name": "HBoxView",
            "_dom_classes": [],
            "_model_name": "HBoxModel",
            "_view_module": "@jupyter-widgets/controls",
            "_model_module_version": "1.5.0",
            "_view_count": null,
            "_view_module_version": "1.5.0",
            "box_style": "",
            "layout": "IPY_MODEL_c28b93c7eeab4756989471880f1b7092",
            "_model_module": "@jupyter-widgets/controls",
            "children": [
              "IPY_MODEL_beeaaddfe2014b5a88b627cd0fd08ef4",
              "IPY_MODEL_12a8f32b98b644e6bb2956e8752419c0"
            ]
          }
        },
        "c28b93c7eeab4756989471880f1b7092": {
          "model_module": "@jupyter-widgets/base",
          "model_name": "LayoutModel",
          "state": {
            "_view_name": "LayoutView",
            "grid_template_rows": null,
            "right": null,
            "justify_content": null,
            "_view_module": "@jupyter-widgets/base",
            "overflow": null,
            "_model_module_version": "1.2.0",
            "_view_count": null,
            "flex_flow": null,
            "width": null,
            "min_width": null,
            "border": null,
            "align_items": null,
            "bottom": null,
            "_model_module": "@jupyter-widgets/base",
            "top": null,
            "grid_column": null,
            "overflow_y": null,
            "overflow_x": null,
            "grid_auto_flow": null,
            "grid_area": null,
            "grid_template_columns": null,
            "flex": null,
            "_model_name": "LayoutModel",
            "justify_items": null,
            "grid_row": null,
            "max_height": null,
            "align_content": null,
            "visibility": null,
            "align_self": null,
            "height": null,
            "min_height": null,
            "padding": null,
            "grid_auto_rows": null,
            "grid_gap": null,
            "max_width": null,
            "order": null,
            "_view_module_version": "1.2.0",
            "grid_template_areas": null,
            "object_position": null,
            "object_fit": null,
            "grid_auto_columns": null,
            "margin": null,
            "display": null,
            "left": null
          }
        },
        "beeaaddfe2014b5a88b627cd0fd08ef4": {
          "model_module": "@jupyter-widgets/controls",
          "model_name": "IntProgressModel",
          "state": {
            "_view_name": "ProgressView",
            "style": "IPY_MODEL_eeaf1a73a7b442e0993592843bd323f1",
            "_dom_classes": [],
            "description": "Downloading: 100%",
            "_model_name": "IntProgressModel",
            "bar_style": "success",
            "max": 898823,
            "_view_module": "@jupyter-widgets/controls",
            "_model_module_version": "1.5.0",
            "value": 898823,
            "_view_count": null,
            "_view_module_version": "1.5.0",
            "orientation": "horizontal",
            "min": 0,
            "description_tooltip": null,
            "_model_module": "@jupyter-widgets/controls",
            "layout": "IPY_MODEL_52e7a00e8c8949e28ad3ae8e5c725e68"
          }
        },
        "12a8f32b98b644e6bb2956e8752419c0": {
          "model_module": "@jupyter-widgets/controls",
          "model_name": "HTMLModel",
          "state": {
            "_view_name": "HTMLView",
            "style": "IPY_MODEL_9d3597f173024c64a1b666ed9463d600",
            "_dom_classes": [],
            "description": "",
            "_model_name": "HTMLModel",
            "placeholder": "​",
            "_view_module": "@jupyter-widgets/controls",
            "_model_module_version": "1.5.0",
            "value": " 899k/899k [00:00&lt;00:00, 2.69MB/s]",
            "_view_count": null,
            "_view_module_version": "1.5.0",
            "description_tooltip": null,
            "_model_module": "@jupyter-widgets/controls",
            "layout": "IPY_MODEL_c563ba167d1940a3b24dc9bebe869a5e"
          }
        },
        "eeaf1a73a7b442e0993592843bd323f1": {
          "model_module": "@jupyter-widgets/controls",
          "model_name": "ProgressStyleModel",
          "state": {
            "_view_name": "StyleView",
            "_model_name": "ProgressStyleModel",
            "description_width": "initial",
            "_view_module": "@jupyter-widgets/base",
            "_model_module_version": "1.5.0",
            "_view_count": null,
            "_view_module_version": "1.2.0",
            "bar_color": null,
            "_model_module": "@jupyter-widgets/controls"
          }
        },
        "52e7a00e8c8949e28ad3ae8e5c725e68": {
          "model_module": "@jupyter-widgets/base",
          "model_name": "LayoutModel",
          "state": {
            "_view_name": "LayoutView",
            "grid_template_rows": null,
            "right": null,
            "justify_content": null,
            "_view_module": "@jupyter-widgets/base",
            "overflow": null,
            "_model_module_version": "1.2.0",
            "_view_count": null,
            "flex_flow": null,
            "width": null,
            "min_width": null,
            "border": null,
            "align_items": null,
            "bottom": null,
            "_model_module": "@jupyter-widgets/base",
            "top": null,
            "grid_column": null,
            "overflow_y": null,
            "overflow_x": null,
            "grid_auto_flow": null,
            "grid_area": null,
            "grid_template_columns": null,
            "flex": null,
            "_model_name": "LayoutModel",
            "justify_items": null,
            "grid_row": null,
            "max_height": null,
            "align_content": null,
            "visibility": null,
            "align_self": null,
            "height": null,
            "min_height": null,
            "padding": null,
            "grid_auto_rows": null,
            "grid_gap": null,
            "max_width": null,
            "order": null,
            "_view_module_version": "1.2.0",
            "grid_template_areas": null,
            "object_position": null,
            "object_fit": null,
            "grid_auto_columns": null,
            "margin": null,
            "display": null,
            "left": null
          }
        },
        "9d3597f173024c64a1b666ed9463d600": {
          "model_module": "@jupyter-widgets/controls",
          "model_name": "DescriptionStyleModel",
          "state": {
            "_view_name": "StyleView",
            "_model_name": "DescriptionStyleModel",
            "description_width": "",
            "_view_module": "@jupyter-widgets/base",
            "_model_module_version": "1.5.0",
            "_view_count": null,
            "_view_module_version": "1.2.0",
            "_model_module": "@jupyter-widgets/controls"
          }
        },
        "c563ba167d1940a3b24dc9bebe869a5e": {
          "model_module": "@jupyter-widgets/base",
          "model_name": "LayoutModel",
          "state": {
            "_view_name": "LayoutView",
            "grid_template_rows": null,
            "right": null,
            "justify_content": null,
            "_view_module": "@jupyter-widgets/base",
            "overflow": null,
            "_model_module_version": "1.2.0",
            "_view_count": null,
            "flex_flow": null,
            "width": null,
            "min_width": null,
            "border": null,
            "align_items": null,
            "bottom": null,
            "_model_module": "@jupyter-widgets/base",
            "top": null,
            "grid_column": null,
            "overflow_y": null,
            "overflow_x": null,
            "grid_auto_flow": null,
            "grid_area": null,
            "grid_template_columns": null,
            "flex": null,
            "_model_name": "LayoutModel",
            "justify_items": null,
            "grid_row": null,
            "max_height": null,
            "align_content": null,
            "visibility": null,
            "align_self": null,
            "height": null,
            "min_height": null,
            "padding": null,
            "grid_auto_rows": null,
            "grid_gap": null,
            "max_width": null,
            "order": null,
            "_view_module_version": "1.2.0",
            "grid_template_areas": null,
            "object_position": null,
            "object_fit": null,
            "grid_auto_columns": null,
            "margin": null,
            "display": null,
            "left": null
          }
        },
        "5414c4a3c4ad4cfc81b4a3b9f70a7e8a": {
          "model_module": "@jupyter-widgets/controls",
          "model_name": "HBoxModel",
          "state": {
            "_view_name": "HBoxView",
            "_dom_classes": [],
            "_model_name": "HBoxModel",
            "_view_module": "@jupyter-widgets/controls",
            "_model_module_version": "1.5.0",
            "_view_count": null,
            "_view_module_version": "1.5.0",
            "box_style": "",
            "layout": "IPY_MODEL_462ff91a9ea04ed98abbaab0699e92eb",
            "_model_module": "@jupyter-widgets/controls",
            "children": [
              "IPY_MODEL_195970f6d4d8402486ac3b3e1a035174",
              "IPY_MODEL_8cd593ac59f946c78a3fbbb3d0226956"
            ]
          }
        },
        "462ff91a9ea04ed98abbaab0699e92eb": {
          "model_module": "@jupyter-widgets/base",
          "model_name": "LayoutModel",
          "state": {
            "_view_name": "LayoutView",
            "grid_template_rows": null,
            "right": null,
            "justify_content": null,
            "_view_module": "@jupyter-widgets/base",
            "overflow": null,
            "_model_module_version": "1.2.0",
            "_view_count": null,
            "flex_flow": null,
            "width": null,
            "min_width": null,
            "border": null,
            "align_items": null,
            "bottom": null,
            "_model_module": "@jupyter-widgets/base",
            "top": null,
            "grid_column": null,
            "overflow_y": null,
            "overflow_x": null,
            "grid_auto_flow": null,
            "grid_area": null,
            "grid_template_columns": null,
            "flex": null,
            "_model_name": "LayoutModel",
            "justify_items": null,
            "grid_row": null,
            "max_height": null,
            "align_content": null,
            "visibility": null,
            "align_self": null,
            "height": null,
            "min_height": null,
            "padding": null,
            "grid_auto_rows": null,
            "grid_gap": null,
            "max_width": null,
            "order": null,
            "_view_module_version": "1.2.0",
            "grid_template_areas": null,
            "object_position": null,
            "object_fit": null,
            "grid_auto_columns": null,
            "margin": null,
            "display": null,
            "left": null
          }
        },
        "195970f6d4d8402486ac3b3e1a035174": {
          "model_module": "@jupyter-widgets/controls",
          "model_name": "IntProgressModel",
          "state": {
            "_view_name": "ProgressView",
            "style": "IPY_MODEL_d5395bfb57c24b4995fb4e76a52070fb",
            "_dom_classes": [],
            "description": "Downloading: 100%",
            "_model_name": "IntProgressModel",
            "bar_style": "success",
            "max": 456318,
            "_view_module": "@jupyter-widgets/controls",
            "_model_module_version": "1.5.0",
            "value": 456318,
            "_view_count": null,
            "_view_module_version": "1.5.0",
            "orientation": "horizontal",
            "min": 0,
            "description_tooltip": null,
            "_model_module": "@jupyter-widgets/controls",
            "layout": "IPY_MODEL_a813d255e6dc4a8d843f5b4aacf3015d"
          }
        },
        "8cd593ac59f946c78a3fbbb3d0226956": {
          "model_module": "@jupyter-widgets/controls",
          "model_name": "HTMLModel",
          "state": {
            "_view_name": "HTMLView",
            "style": "IPY_MODEL_b178854c1db64291a641e575631966c8",
            "_dom_classes": [],
            "description": "",
            "_model_name": "HTMLModel",
            "placeholder": "​",
            "_view_module": "@jupyter-widgets/controls",
            "_model_module_version": "1.5.0",
            "value": " 456k/456k [00:00&lt;00:00, 3.32MB/s]",
            "_view_count": null,
            "_view_module_version": "1.5.0",
            "description_tooltip": null,
            "_model_module": "@jupyter-widgets/controls",
            "layout": "IPY_MODEL_61804ec33ce64173a7e0128a6b124ce1"
          }
        },
        "d5395bfb57c24b4995fb4e76a52070fb": {
          "model_module": "@jupyter-widgets/controls",
          "model_name": "ProgressStyleModel",
          "state": {
            "_view_name": "StyleView",
            "_model_name": "ProgressStyleModel",
            "description_width": "initial",
            "_view_module": "@jupyter-widgets/base",
            "_model_module_version": "1.5.0",
            "_view_count": null,
            "_view_module_version": "1.2.0",
            "bar_color": null,
            "_model_module": "@jupyter-widgets/controls"
          }
        },
        "a813d255e6dc4a8d843f5b4aacf3015d": {
          "model_module": "@jupyter-widgets/base",
          "model_name": "LayoutModel",
          "state": {
            "_view_name": "LayoutView",
            "grid_template_rows": null,
            "right": null,
            "justify_content": null,
            "_view_module": "@jupyter-widgets/base",
            "overflow": null,
            "_model_module_version": "1.2.0",
            "_view_count": null,
            "flex_flow": null,
            "width": null,
            "min_width": null,
            "border": null,
            "align_items": null,
            "bottom": null,
            "_model_module": "@jupyter-widgets/base",
            "top": null,
            "grid_column": null,
            "overflow_y": null,
            "overflow_x": null,
            "grid_auto_flow": null,
            "grid_area": null,
            "grid_template_columns": null,
            "flex": null,
            "_model_name": "LayoutModel",
            "justify_items": null,
            "grid_row": null,
            "max_height": null,
            "align_content": null,
            "visibility": null,
            "align_self": null,
            "height": null,
            "min_height": null,
            "padding": null,
            "grid_auto_rows": null,
            "grid_gap": null,
            "max_width": null,
            "order": null,
            "_view_module_version": "1.2.0",
            "grid_template_areas": null,
            "object_position": null,
            "object_fit": null,
            "grid_auto_columns": null,
            "margin": null,
            "display": null,
            "left": null
          }
        },
        "b178854c1db64291a641e575631966c8": {
          "model_module": "@jupyter-widgets/controls",
          "model_name": "DescriptionStyleModel",
          "state": {
            "_view_name": "StyleView",
            "_model_name": "DescriptionStyleModel",
            "description_width": "",
            "_view_module": "@jupyter-widgets/base",
            "_model_module_version": "1.5.0",
            "_view_count": null,
            "_view_module_version": "1.2.0",
            "_model_module": "@jupyter-widgets/controls"
          }
        },
        "61804ec33ce64173a7e0128a6b124ce1": {
          "model_module": "@jupyter-widgets/base",
          "model_name": "LayoutModel",
          "state": {
            "_view_name": "LayoutView",
            "grid_template_rows": null,
            "right": null,
            "justify_content": null,
            "_view_module": "@jupyter-widgets/base",
            "overflow": null,
            "_model_module_version": "1.2.0",
            "_view_count": null,
            "flex_flow": null,
            "width": null,
            "min_width": null,
            "border": null,
            "align_items": null,
            "bottom": null,
            "_model_module": "@jupyter-widgets/base",
            "top": null,
            "grid_column": null,
            "overflow_y": null,
            "overflow_x": null,
            "grid_auto_flow": null,
            "grid_area": null,
            "grid_template_columns": null,
            "flex": null,
            "_model_name": "LayoutModel",
            "justify_items": null,
            "grid_row": null,
            "max_height": null,
            "align_content": null,
            "visibility": null,
            "align_self": null,
            "height": null,
            "min_height": null,
            "padding": null,
            "grid_auto_rows": null,
            "grid_gap": null,
            "max_width": null,
            "order": null,
            "_view_module_version": "1.2.0",
            "grid_template_areas": null,
            "object_position": null,
            "object_fit": null,
            "grid_auto_columns": null,
            "margin": null,
            "display": null,
            "left": null
          }
        },
        "90c6321a30df484ca79071fdceed83ef": {
          "model_module": "@jupyter-widgets/controls",
          "model_name": "HBoxModel",
          "state": {
            "_view_name": "HBoxView",
            "_dom_classes": [],
            "_model_name": "HBoxModel",
            "_view_module": "@jupyter-widgets/controls",
            "_model_module_version": "1.5.0",
            "_view_count": null,
            "_view_module_version": "1.5.0",
            "box_style": "",
            "layout": "IPY_MODEL_5feab15ae832492dab12df5193fc2873",
            "_model_module": "@jupyter-widgets/controls",
            "children": [
              "IPY_MODEL_f71c47163a9c4e4fbbaafd7880f73edd",
              "IPY_MODEL_77560d2962004d66ad08564bfcc36413"
            ]
          }
        },
        "5feab15ae832492dab12df5193fc2873": {
          "model_module": "@jupyter-widgets/base",
          "model_name": "LayoutModel",
          "state": {
            "_view_name": "LayoutView",
            "grid_template_rows": null,
            "right": null,
            "justify_content": null,
            "_view_module": "@jupyter-widgets/base",
            "overflow": null,
            "_model_module_version": "1.2.0",
            "_view_count": null,
            "flex_flow": null,
            "width": null,
            "min_width": null,
            "border": null,
            "align_items": null,
            "bottom": null,
            "_model_module": "@jupyter-widgets/base",
            "top": null,
            "grid_column": null,
            "overflow_y": null,
            "overflow_x": null,
            "grid_auto_flow": null,
            "grid_area": null,
            "grid_template_columns": null,
            "flex": null,
            "_model_name": "LayoutModel",
            "justify_items": null,
            "grid_row": null,
            "max_height": null,
            "align_content": null,
            "visibility": null,
            "align_self": null,
            "height": null,
            "min_height": null,
            "padding": null,
            "grid_auto_rows": null,
            "grid_gap": null,
            "max_width": null,
            "order": null,
            "_view_module_version": "1.2.0",
            "grid_template_areas": null,
            "object_position": null,
            "object_fit": null,
            "grid_auto_columns": null,
            "margin": null,
            "display": null,
            "left": null
          }
        },
        "f71c47163a9c4e4fbbaafd7880f73edd": {
          "model_module": "@jupyter-widgets/controls",
          "model_name": "IntProgressModel",
          "state": {
            "_view_name": "ProgressView",
            "style": "IPY_MODEL_6a3a7849dc5f4016bf4dccf9502975c7",
            "_dom_classes": [],
            "description": "Downloading: 100%",
            "_model_name": "IntProgressModel",
            "bar_style": "success",
            "max": 1625270765,
            "_view_module": "@jupyter-widgets/controls",
            "_model_module_version": "1.5.0",
            "value": 1625270765,
            "_view_count": null,
            "_view_module_version": "1.5.0",
            "orientation": "horizontal",
            "min": 0,
            "description_tooltip": null,
            "_model_module": "@jupyter-widgets/controls",
            "layout": "IPY_MODEL_5b4e5c9066c64fa489ef56b066ffdafb"
          }
        },
        "77560d2962004d66ad08564bfcc36413": {
          "model_module": "@jupyter-widgets/controls",
          "model_name": "HTMLModel",
          "state": {
            "_view_name": "HTMLView",
            "style": "IPY_MODEL_810f5464a9354ec8961ec7a9fc68020b",
            "_dom_classes": [],
            "description": "",
            "_model_name": "HTMLModel",
            "placeholder": "​",
            "_view_module": "@jupyter-widgets/controls",
            "_model_module_version": "1.5.0",
            "value": " 1.63G/1.63G [00:27&lt;00:00, 58.6MB/s]",
            "_view_count": null,
            "_view_module_version": "1.5.0",
            "description_tooltip": null,
            "_model_module": "@jupyter-widgets/controls",
            "layout": "IPY_MODEL_28429407a91342a79f0a6dfc3afc381e"
          }
        },
        "6a3a7849dc5f4016bf4dccf9502975c7": {
          "model_module": "@jupyter-widgets/controls",
          "model_name": "ProgressStyleModel",
          "state": {
            "_view_name": "StyleView",
            "_model_name": "ProgressStyleModel",
            "description_width": "initial",
            "_view_module": "@jupyter-widgets/base",
            "_model_module_version": "1.5.0",
            "_view_count": null,
            "_view_module_version": "1.2.0",
            "bar_color": null,
            "_model_module": "@jupyter-widgets/controls"
          }
        },
        "5b4e5c9066c64fa489ef56b066ffdafb": {
          "model_module": "@jupyter-widgets/base",
          "model_name": "LayoutModel",
          "state": {
            "_view_name": "LayoutView",
            "grid_template_rows": null,
            "right": null,
            "justify_content": null,
            "_view_module": "@jupyter-widgets/base",
            "overflow": null,
            "_model_module_version": "1.2.0",
            "_view_count": null,
            "flex_flow": null,
            "width": null,
            "min_width": null,
            "border": null,
            "align_items": null,
            "bottom": null,
            "_model_module": "@jupyter-widgets/base",
            "top": null,
            "grid_column": null,
            "overflow_y": null,
            "overflow_x": null,
            "grid_auto_flow": null,
            "grid_area": null,
            "grid_template_columns": null,
            "flex": null,
            "_model_name": "LayoutModel",
            "justify_items": null,
            "grid_row": null,
            "max_height": null,
            "align_content": null,
            "visibility": null,
            "align_self": null,
            "height": null,
            "min_height": null,
            "padding": null,
            "grid_auto_rows": null,
            "grid_gap": null,
            "max_width": null,
            "order": null,
            "_view_module_version": "1.2.0",
            "grid_template_areas": null,
            "object_position": null,
            "object_fit": null,
            "grid_auto_columns": null,
            "margin": null,
            "display": null,
            "left": null
          }
        },
        "810f5464a9354ec8961ec7a9fc68020b": {
          "model_module": "@jupyter-widgets/controls",
          "model_name": "DescriptionStyleModel",
          "state": {
            "_view_name": "StyleView",
            "_model_name": "DescriptionStyleModel",
            "description_width": "",
            "_view_module": "@jupyter-widgets/base",
            "_model_module_version": "1.5.0",
            "_view_count": null,
            "_view_module_version": "1.2.0",
            "_model_module": "@jupyter-widgets/controls"
          }
        },
        "28429407a91342a79f0a6dfc3afc381e": {
          "model_module": "@jupyter-widgets/base",
          "model_name": "LayoutModel",
          "state": {
            "_view_name": "LayoutView",
            "grid_template_rows": null,
            "right": null,
            "justify_content": null,
            "_view_module": "@jupyter-widgets/base",
            "overflow": null,
            "_model_module_version": "1.2.0",
            "_view_count": null,
            "flex_flow": null,
            "width": null,
            "min_width": null,
            "border": null,
            "align_items": null,
            "bottom": null,
            "_model_module": "@jupyter-widgets/base",
            "top": null,
            "grid_column": null,
            "overflow_y": null,
            "overflow_x": null,
            "grid_auto_flow": null,
            "grid_area": null,
            "grid_template_columns": null,
            "flex": null,
            "_model_name": "LayoutModel",
            "justify_items": null,
            "grid_row": null,
            "max_height": null,
            "align_content": null,
            "visibility": null,
            "align_self": null,
            "height": null,
            "min_height": null,
            "padding": null,
            "grid_auto_rows": null,
            "grid_gap": null,
            "max_width": null,
            "order": null,
            "_view_module_version": "1.2.0",
            "grid_template_areas": null,
            "object_position": null,
            "object_fit": null,
            "grid_auto_columns": null,
            "margin": null,
            "display": null,
            "left": null
          }
        }
      }
    }
  },
  "cells": [
    {
      "cell_type": "markdown",
      "metadata": {
        "id": "view-in-github",
        "colab_type": "text"
      },
      "source": [
        "<a href=\"https://colab.research.google.com/github/smaranjitghose/PyArticleSummary/blob/master/TeenyWeeny.ipynb\" target=\"_parent\"><img src=\"https://colab.research.google.com/assets/colab-badge.svg\" alt=\"Open In Colab\"/></a>"
      ]
    },
    {
      "cell_type": "code",
      "metadata": {
        "id": "AXpDwgRRmUxs",
        "colab_type": "code",
        "colab": {
          "base_uri": "https://localhost:8080/",
          "height": 102
        },
        "outputId": "93919b51-ca06-4a2b-8de6-9fed24ae05be"
      },
      "source": [
        "!pip install -q transformers --upgrade"
      ],
      "execution_count": 1,
      "outputs": [
        {
          "output_type": "stream",
          "text": [
            "\u001b[K     |████████████████████████████████| 542kB 2.7MB/s \n",
            "\u001b[K     |████████████████████████████████| 1.0MB 9.7MB/s \n",
            "\u001b[K     |████████████████████████████████| 3.7MB 20.8MB/s \n",
            "\u001b[K     |████████████████████████████████| 870kB 40.3MB/s \n",
            "\u001b[?25h  Building wheel for sacremoses (setup.py) ... \u001b[?25l\u001b[?25hdone\n"
          ],
          "name": "stdout"
        }
      ]
    },
    {
      "cell_type": "markdown",
      "metadata": {
        "id": "zlpxOYsTn9FT",
        "colab_type": "text"
      },
      "source": [
        "## Lets get our summarizer"
      ]
    },
    {
      "cell_type": "code",
      "metadata": {
        "id": "n5XiZ-kqm0yA",
        "colab_type": "code",
        "colab": {
          "base_uri": "https://localhost:8080/",
          "height": 247,
          "referenced_widgets": [
            "239b1144b53244cdaac32a9647c40fc4",
            "0056e8b0c64a4095a7d07bd2a0c532c9",
            "ea0acde141bb4eb493513a05cd1ff02f",
            "e7bfbf13ec1d46f9bc0da623120d891c",
            "b9854bd0e25d4310a3918c77752964ec",
            "5be9adf0b37548fa91d4b0f40f67fa25",
            "b00acfe24dfc41d5826950de6d13b481",
            "6c797e0f32c64056953f33a606dbdd97",
            "239617c0b1044be699c1d2f6b4eb6e53",
            "c28b93c7eeab4756989471880f1b7092",
            "beeaaddfe2014b5a88b627cd0fd08ef4",
            "12a8f32b98b644e6bb2956e8752419c0",
            "eeaf1a73a7b442e0993592843bd323f1",
            "52e7a00e8c8949e28ad3ae8e5c725e68",
            "9d3597f173024c64a1b666ed9463d600",
            "c563ba167d1940a3b24dc9bebe869a5e",
            "5414c4a3c4ad4cfc81b4a3b9f70a7e8a",
            "462ff91a9ea04ed98abbaab0699e92eb",
            "195970f6d4d8402486ac3b3e1a035174",
            "8cd593ac59f946c78a3fbbb3d0226956",
            "d5395bfb57c24b4995fb4e76a52070fb",
            "a813d255e6dc4a8d843f5b4aacf3015d",
            "b178854c1db64291a641e575631966c8",
            "61804ec33ce64173a7e0128a6b124ce1",
            "90c6321a30df484ca79071fdceed83ef",
            "5feab15ae832492dab12df5193fc2873",
            "f71c47163a9c4e4fbbaafd7880f73edd",
            "77560d2962004d66ad08564bfcc36413",
            "6a3a7849dc5f4016bf4dccf9502975c7",
            "5b4e5c9066c64fa489ef56b066ffdafb",
            "810f5464a9354ec8961ec7a9fc68020b",
            "28429407a91342a79f0a6dfc3afc381e"
          ]
        },
        "outputId": "7006bb51-b34d-4c29-bf86-2131968da7bc"
      },
      "source": [
        "from transformers import pipeline\n",
        "summarizer = pipeline(task=\"summarization\")"
      ],
      "execution_count": 3,
      "outputs": [
        {
          "output_type": "display_data",
          "data": {
            "application/vnd.jupyter.widget-view+json": {
              "model_id": "239b1144b53244cdaac32a9647c40fc4",
              "version_minor": 0,
              "version_major": 2
            },
            "text/plain": [
              "HBox(children=(IntProgress(value=0, description='Downloading', max=1256, style=ProgressStyle(description_width…"
            ]
          },
          "metadata": {
            "tags": []
          }
        },
        {
          "output_type": "stream",
          "text": [
            "\n"
          ],
          "name": "stdout"
        },
        {
          "output_type": "display_data",
          "data": {
            "application/vnd.jupyter.widget-view+json": {
              "model_id": "239617c0b1044be699c1d2f6b4eb6e53",
              "version_minor": 0,
              "version_major": 2
            },
            "text/plain": [
              "HBox(children=(IntProgress(value=0, description='Downloading', max=898823, style=ProgressStyle(description_wid…"
            ]
          },
          "metadata": {
            "tags": []
          }
        },
        {
          "output_type": "stream",
          "text": [
            "\n"
          ],
          "name": "stdout"
        },
        {
          "output_type": "display_data",
          "data": {
            "application/vnd.jupyter.widget-view+json": {
              "model_id": "5414c4a3c4ad4cfc81b4a3b9f70a7e8a",
              "version_minor": 0,
              "version_major": 2
            },
            "text/plain": [
              "HBox(children=(IntProgress(value=0, description='Downloading', max=456318, style=ProgressStyle(description_wid…"
            ]
          },
          "metadata": {
            "tags": []
          }
        },
        {
          "output_type": "stream",
          "text": [
            "Couldn't reach server at 'https://s3.amazonaws.com/models.huggingface.co/bert/facebook/bart-large-cnn/modelcard.json' to download model card file.\n",
            "Creating an empty model card.\n"
          ],
          "name": "stderr"
        },
        {
          "output_type": "stream",
          "text": [
            "\n"
          ],
          "name": "stdout"
        },
        {
          "output_type": "display_data",
          "data": {
            "application/vnd.jupyter.widget-view+json": {
              "model_id": "90c6321a30df484ca79071fdceed83ef",
              "version_minor": 0,
              "version_major": 2
            },
            "text/plain": [
              "HBox(children=(IntProgress(value=0, description='Downloading', max=1625270765, style=ProgressStyle(description…"
            ]
          },
          "metadata": {
            "tags": []
          }
        },
        {
          "output_type": "stream",
          "text": [
            "\n"
          ],
          "name": "stdout"
        }
      ]
    },
    {
      "cell_type": "markdown",
      "metadata": {
        "id": "IwM0QqVVnw40",
        "colab_type": "text"
      },
      "source": [
        "## Lets try with a boring tennis article\n"
      ]
    },
    {
      "cell_type": "code",
      "metadata": {
        "id": "CLN4kon0m4ap",
        "colab_type": "code",
        "colab": {}
      },
      "source": [
        "LONG_BORING_TENNIS_ARTICLE = \"\"\"\n",
        " Andy Murray  came close to giving himself some extra preparation time for his w\n",
        "edding next week before ensuring that he still has unfinished tennis business to\n",
        " attend to. The world No 4 is into the semi-finals of the Miami Open, but not be\n",
        "fore getting a scare from 21 year-old Austrian Dominic Thiem, who pushed him to \n",
        "4-4 in the second set before going down 3-6 6-4, 6-1 in an hour and three quarte\n",
        "rs. Murray was awaiting the winner from the last eight match between Tomas Berdy\n",
        "ch and Argentina's Juan Monaco. Prior to this tournament Thiem lost in the secon\n",
        "d round of a Challenger event to soon-to-be new Brit Aljaz Bedene. Andy Murray p\n",
        "umps his first after defeating Dominic Thiem to reach the Miami Open semi finals\n",
        " . Muray throws his sweatband into the crowd after completing a 3-6, 6-4, 6-1 vi\n",
        "ctory in Florida . Murray shakes hands with Thiem who he described as a 'strong \n",
        "guy' after the game . And Murray has a fairly simple message for any of his fell\n",
        "ow British tennis players who might be agitated about his imminent arrival into \n",
        "the home ranks: don't complain. Instead the British No 1 believes his colleagues\n",
        " should use the assimilation of the world number 83, originally from Slovenia, a\n",
        "s motivation to better themselves. At present any grumbles are happening in priv\n",
        "ate, and Bedene's present ineligibility for the Davis Cup team has made it less \n",
        "of an issue, although that could change if his appeal to play is allowed by the \n",
        "International Tennis Federation. Murray thinks anyone questioning the move, now \n",
        "it has become official, would be better working on getting their ranking closer \n",
        "to his. 'If he was 500 in the world they wouldn't be that fussed about it but ob\n",
        "viously he threatens their position a bit,' said the 27 year-old Scot. ' and he'\n",
        "s obviously the British number two, comfortably. 'So they can complain but the b\n",
        "est thing to do is use it in the right way and accept it for what it is, and try\n",
        " to use it as motivation whether they agree with it or not. He's British now so \n",
        "they've just got to deal with it. Murray stretches for a return after starting h\n",
        "is quarter final match slowly on the show court . Thiem held nothing back as he \n",
        "raced through the opening set, winning it 6-3 with a single break . The young Au\n",
        "strian is considered to be one of the hottest prospects on the ATP Tour . 'I wou\n",
        "ld hope that all the guys who are below him now like James (Ward) , Kyle (Edmund\n",
        ") , Liam (Broady) they will use it as motivation. If he becomes eligible for Dav\n",
        "is Cup then those guys are going to have to prove themselves. 'It can only be se\n",
        "en as a positive for those guys using it to try to get better. He's a good playe\n",
        "r but so are James and Kyle and Liam has improved. Aljaz is there, he's on the t\n",
        "our every week, the other guys aren't quite there yet.' For the first time Murra\n",
        "y, who has an encyclopaedic knowledge of the top 100, gave his opinion of Bedene\n",
        ": 'He's a good player with a very good serve. He's a legitimate top 100 player, \n",
        "when he plays Challengers he's there or thereabouts, when he plays on the main t\n",
        "our he wins matches, it's not like he turns up and always loses in the first rou\n",
        "nd. Murray's fiancee was once again watching from the stands shaded by a huge br\n",
        "immed hat . Kim Sears flashes her enormous diamond engagement ring while watchin\n",
        "g her beau on court . 'He had a bad injury last year (wrist) but has recovered w\n",
        "ell. I would imagine he would keep moving up the rankings although I don't know \n",
        "exactly how high he can go. I've practised with him a couple of times, I haven't\n",
        " seen him play loads, but when you serve as well as he does it helps. I would im\n",
        "agine he' s going to be comfortably in the top 70 or 80 in the world for a while\n",
        ".' It is understood the Lawn Tennis Association will give background support to \n",
        "his case regarding the Davis Cup but have made it clear that the onus is on him \n",
        "to lead the way. An official statement said: 'To have another player in the men'\n",
        "s top 100 is clearly a positive thing for British tennis and so we very much wel\n",
        "come Aljaz's change in citizenship.' The last comparable switch came twenty year\n",
        "s ago when Greg Rusedski arrived from Canada. It was by no means universally pop\n",
        "ular but, like Bedene, he pledged that he was in for the long haul and, in fairn\n",
        "ess to him, he proved true to his word. Loising the first set shocked Murray int\n",
        "o life as he raced to a commanding lead in the second . The No 3 seed sent over \n",
        "a few glaring looks towards his team before winning the second set . Murray had \n",
        "to put such matters aside as he tackled the unusually talented Thiem, a delight \n",
        "to watch. Coached by Boris Becker's veteran mentor Gunter Bresnik, he slightly r\n",
        "esembles Andy Roddick and hits with similar power but more elegance. His single \n",
        "handed backhand is a thing of rare beauty. However, he has had a mediocre season\n",
        " coming into this event and there was little to forewarn of his glorious shotmak\n",
        "ing that seemed to catch Murray unawares early on. The world No 4 looked to have\n",
        " worked him out in the second, but then suffered one of his periopdic mental lap\n",
        "ses and let him back in from 4-1 before closing it out with a break. After break\n",
        "ing him for 3-1 in the decider the Austrian whirlwind burnt itself out. 'He's a \n",
        "strong guy who hits the ball hard and it became a very physical match,' said Mur\n",
        "ray. Murray was presented with a celebratory cake after winning his 500th match \n",
        "in the previous round .\n",
        "\"\"\".replace('\\n','')"
      ],
      "execution_count": 0,
      "outputs": []
    },
    {
      "cell_type": "markdown",
      "metadata": {
        "id": "w2lrgKgAoFRj",
        "colab_type": "text"
      },
      "source": [
        "## Now what? Just summarize 😊"
      ]
    },
    {
      "cell_type": "code",
      "metadata": {
        "id": "b9TCxdGgnvXO",
        "colab_type": "code",
        "colab": {}
      },
      "source": [
        "summary = summarizer(LONG_BORING_TENNIS_ARTICLE)"
      ],
      "execution_count": 0,
      "outputs": []
    },
    {
      "cell_type": "code",
      "metadata": {
        "id": "fuw2pT72oUmR",
        "colab_type": "code",
        "colab": {
          "base_uri": "https://localhost:8080/",
          "height": 34
        },
        "outputId": "18fedebc-7657-4f3f-e5b2-6ba14a675666"
      },
      "source": [
        "summary[0]['summary_text']"
      ],
      "execution_count": 16,
      "outputs": [
        {
          "output_type": "execute_result",
          "data": {
            "text/plain": [
              "\"Andy Murray beat Dominic Thiem 3-6 6-4, 6-1 in the Miami Open. The world No 4 is into the semi-finals of the tournament in Florida. Murray was awaiting the winner from the last eight match between Tomas Berdych and Argentina's Juan Monaco.\""
            ]
          },
          "metadata": {
            "tags": []
          },
          "execution_count": 16
        }
      ]
    },
    {
      "cell_type": "code",
      "metadata": {
        "id": "5T06NDlUoaMH",
        "colab_type": "code",
        "colab": {}
      },
      "source": [
        "with open('/content/summary.txt', 'w') as f:\n",
        "  f.write(summary[0]['summary_text'])\n",
        "  f.write('\\n')"
      ],
      "execution_count": 0,
      "outputs": []
    },
    {
      "cell_type": "code",
      "metadata": {
        "id": "UTLa9y8KrDsb",
        "colab_type": "code",
        "colab": {}
      },
      "source": [
        "from google.colab import files\n",
        "files.download('/content/summary.txt')"
      ],
      "execution_count": 0,
      "outputs": []
    }
  ]
}